{
 "cells": [
  {
   "cell_type": "code",
   "execution_count": 1,
   "metadata": {},
   "outputs": [],
   "source": [
    "n = 1\n",
    "t = 1\n",
    "m = 1\n",
    "timetable = [\"23:59\"]\n",
    "\n",
    "# result = \"09:00\"\n",
    "\n",
    "time = []\n",
    "for i in timetable:\n",
    "    i = i.split(\":\")\n",
    "    time.append(int(i[0])*60 +int(i[1]))\n",
    "time.sort()\n",
    "\n",
    "bus = []\n",
    "\n",
    "for i in range(n):\n",
    "    bus.append(540 + i*t)\n",
    "for i in bus:\n",
    "    arrive = []\n",
    "    if len(time) < m :\n",
    "        arrive.append(i+1)\n",
    "    else:\n",
    "        for j in range(m):\n",
    "            if time[j] <= i :\n",
    "                arrive.append(time[j])\n",
    "            else:\n",
    "                pass\n",
    "        for k in range(len(arrive)):\n",
    "            del(time[0])\n",
    "if arrive ==[]:\n",
    "    arrive.append(bus[-1]+1)\n",
    "answer = max(arrive) -1\n",
    "answer = f\"{answer//60}\".zfill(2) + \":\" + f\"{answer%60}\".zfill(2)"
   ]
  },
  {
   "cell_type": "code",
   "execution_count": null,
   "metadata": {},
   "outputs": [],
   "source": [
    "def solution(n, t, m, timetable):\n",
    "    time = []\n",
    "    for i in timetable:\n",
    "        i = i.split(\":\")\n",
    "        time.append(int(i[0])*60 +int(i[1]))\n",
    "    time.sort()\n",
    "    bus = []\n",
    "\n",
    "    for i in range(n):\n",
    "        bus.append(540 + i*t)\n",
    "    for i in bus:\n",
    "        arrive = []\n",
    "        if len(time) < m :\n",
    "            arrive.append(i+1)\n",
    "        else:\n",
    "            for j in range(m):\n",
    "                if time[j] <= i:\n",
    "                    arrive.append(time[j])\n",
    "                else:\n",
    "                    pass\n",
    "            for k in range(len(arrive)):\n",
    "                del(time[0])\n",
    "        if arrive ==[]:\n",
    "            arrive.append(bus[-1]+1)\n",
    "    answer = max(arrive) -1\n",
    "    answer = f\"{answer//60}\".zfill(2) + \":\" + f\"{answer%60}\".zfill(2)\n",
    "    return answer "
   ]
  }
 ],
 "metadata": {
  "kernelspec": {
   "display_name": "ml",
   "language": "python",
   "name": "python3"
  },
  "language_info": {
   "codemirror_mode": {
    "name": "ipython",
    "version": 3
   },
   "file_extension": ".py",
   "mimetype": "text/x-python",
   "name": "python",
   "nbconvert_exporter": "python",
   "pygments_lexer": "ipython3",
   "version": "3.8.16"
  },
  "orig_nbformat": 4
 },
 "nbformat": 4,
 "nbformat_minor": 2
}
