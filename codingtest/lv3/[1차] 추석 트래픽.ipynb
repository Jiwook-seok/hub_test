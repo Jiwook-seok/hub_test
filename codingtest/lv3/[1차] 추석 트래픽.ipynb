{
 "cells": [
  {
   "cell_type": "code",
   "execution_count": 3,
   "metadata": {},
   "outputs": [],
   "source": [
    "lines = [\n",
    "\"2016-09-15 20:59:57.421 0.351s\",\n",
    "\"2016-09-15 20:59:58.233 1.181s\",\n",
    "\"2016-09-15 20:59:58.299 0.8s\",\n",
    "\"2016-09-15 20:59:58.688 1.041s\",\n",
    "\"2016-09-15 20:59:59.591 1.412s\",\n",
    "\"2016-09-15 21:00:00.464 1.466s\",\n",
    "\"2016-09-15 21:00:00.741 1.581s\",\n",
    "\"2016-09-15 21:00:00.748 2.31s\",\n",
    "\"2016-09-15 21:00:00.966 0.381s\",\n",
    "\"2016-09-15 21:00:02.066 2.62s\"\n",
    "]\n",
    "\n",
    "#result = 7"
   ]
  },
  {
   "cell_type": "code",
   "execution_count": 4,
   "metadata": {},
   "outputs": [
    {
     "data": {
      "text/plain": [
       "7"
      ]
     },
     "execution_count": 4,
     "metadata": {},
     "output_type": "execute_result"
    }
   ],
   "source": [
    "s1 = []\n",
    "s2 = []\n",
    "for i in lines:\n",
    "    sec = i.split(\" \")[1].split(\":\")\n",
    "    se = int(sec[0]) *3600000 + int(sec[1]) *60000 + int(sec[2].replace(\".\",\"\"))\n",
    "    du = i.split(\" \")[2].replace(\"s\",\"\")\n",
    "    du = int(float(du)*1000)\n",
    "    s1.append(se - du +1)\n",
    "    s2.append(se)\n",
    "smax = []\n",
    "for i in range(len(s2)):\n",
    "    k=1\n",
    "    for j in range(len(s1)):\n",
    "        if s1[j] < s2[i]+1000 and s2[j] > s2[i]:\n",
    "            k+=1\n",
    "    smax.append(k)\n",
    "answer = max(smax)\n",
    "answer"
   ]
  },
  {
   "cell_type": "code",
   "execution_count": null,
   "metadata": {},
   "outputs": [],
   "source": []
  },
  {
   "cell_type": "code",
   "execution_count": null,
   "metadata": {},
   "outputs": [],
   "source": [
    "def solution(lines):\n",
    "    s1 = []\n",
    "    s2 = []\n",
    "    for i in lines:\n",
    "        sec = i.split(\" \")[1].split(\":\")\n",
    "        se = int(sec[0]) *3600000 + int(sec[1]) *60000 + int(sec[2].replace(\".\",\"\"))\n",
    "        du = i.split(\" \")[2].replace(\"s\",\"\")\n",
    "        du = int(float(du)*1000)\n",
    "        s1.append(se - du +1)\n",
    "        s2.append(se)\n",
    "    smax = []\n",
    "    for i in range(len(s2)):\n",
    "        k=0\n",
    "        for j in range(len(s1)):\n",
    "            if s1[j] < s2[i]+1000 and s2[j] > s2[i]:\n",
    "                k+=1\n",
    "            elif s1[j]<=s2[i] and s2[j] >= s2[i]:\n",
    "                k+=1\n",
    "        smax.append(k)\n",
    "    answer = max(smax)\n",
    "    return answer"
   ]
  }
 ],
 "metadata": {
  "kernelspec": {
   "display_name": "ml",
   "language": "python",
   "name": "python3"
  },
  "language_info": {
   "codemirror_mode": {
    "name": "ipython",
    "version": 3
   },
   "file_extension": ".py",
   "mimetype": "text/x-python",
   "name": "python",
   "nbconvert_exporter": "python",
   "pygments_lexer": "ipython3",
   "version": "3.8.16"
  },
  "orig_nbformat": 4
 },
 "nbformat": 4,
 "nbformat_minor": 2
}
