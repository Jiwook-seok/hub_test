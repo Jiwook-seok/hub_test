{
 "cells": [
  {
   "cell_type": "code",
   "execution_count": 2,
   "metadata": {},
   "outputs": [],
   "source": [
    "n = 5 # 한변의 크기\n",
    "arr1 = \t[9, 20, 28, 18, 11]\n",
    "arr2 = [30, 1, 21, 17, 28]\n",
    "# 출력 [\"#####\",\"# # #\", \"### #\", \"# ##\", \"#####\"]"
   ]
  },
  {
   "cell_type": "code",
   "execution_count": 4,
   "metadata": {},
   "outputs": [
    {
     "data": {
      "text/plain": [
       "['#####', '# # #', '### #', '#  ##', '#####']"
      ]
     },
     "execution_count": 4,
     "metadata": {},
     "output_type": "execute_result"
    }
   ],
   "source": [
    "\n",
    "tmp_lst1=[]\n",
    "tmp_lst2=[]\n",
    "for i in arr1:\n",
    "    tmp_lst1.append(int(bin(i)[2:]))\n",
    "for j in arr2:\n",
    "    tmp_lst2.append(int(bin(j)[2:]))\n",
    "gold = [i+j for i,j in zip(tmp_lst1, tmp_lst2)]\n",
    "answer = []\n",
    "for i in range(n):\n",
    "    if len(str(gold[i]))<n:\n",
    "        answer.append(' ')\n",
    "        for _ in range(n-len(str(gold[i]))-1):\n",
    "            answer[i] = answer[i] + ' '\n",
    "    else:\n",
    "        answer.append('')\n",
    "    for j in list(map(int,str(gold[i]))):\n",
    "        if j > 0 :\n",
    "            j = '#'\n",
    "        else:\n",
    "            j = ' '\n",
    "        answer[i] = answer[i] + j\n",
    "answer"
   ]
  }
 ],
 "metadata": {
  "kernelspec": {
   "display_name": "ml",
   "language": "python",
   "name": "python3"
  },
  "language_info": {
   "codemirror_mode": {
    "name": "ipython",
    "version": 3
   },
   "file_extension": ".py",
   "mimetype": "text/x-python",
   "name": "python",
   "nbconvert_exporter": "python",
   "pygments_lexer": "ipython3",
   "version": "3.8.16"
  },
  "orig_nbformat": 4
 },
 "nbformat": 4,
 "nbformat_minor": 2
}
