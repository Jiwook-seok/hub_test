{
 "cells": [
  {
   "cell_type": "code",
   "execution_count": 1,
   "metadata": {},
   "outputs": [],
   "source": [
    "cacheSize = 3\n",
    "cities = [\"Jeju\", \"Pangyo\", \"Seoul\", \"NewYork\", \"LA\", \"Jeju\", \"Pangyo\", \"Seoul\", \"NewYork\", \"LA\"]\n",
    "#LRU\n",
    "#cache hit일 경우 실행시간은 1이다.\n",
    "#cache miss일 경우 실행시간은 5이다.\n",
    "# answer = 50"
   ]
  },
  {
   "cell_type": "code",
   "execution_count": 5,
   "metadata": {},
   "outputs": [],
   "source": [
    "cache = []\n",
    "answer = 0\n",
    "for i in range(cacheSize):\n",
    "    cache.append(\"\")"
   ]
  },
  {
   "cell_type": "code",
   "execution_count": 6,
   "metadata": {},
   "outputs": [
    {
     "data": {
      "text/plain": [
       "['', '', '']"
      ]
     },
     "execution_count": 6,
     "metadata": {},
     "output_type": "execute_result"
    }
   ],
   "source": [
    "cache"
   ]
  },
  {
   "cell_type": "code",
   "execution_count": 7,
   "metadata": {},
   "outputs": [],
   "source": [
    "for i in cities:\n",
    "    if i in cache:\n",
    "        answer +=1\n",
    "        cache.insert(0,i)\n",
    "        del(cache[-1])\n",
    "    else:\n",
    "        answer +=5\n",
    "        cache.insert(0,i)\n",
    "        del(cache[-1])"
   ]
  },
  {
   "cell_type": "code",
   "execution_count": 8,
   "metadata": {},
   "outputs": [
    {
     "data": {
      "text/plain": [
       "50"
      ]
     },
     "execution_count": 8,
     "metadata": {},
     "output_type": "execute_result"
    }
   ],
   "source": [
    "answer"
   ]
  },
  {
   "cell_type": "code",
   "execution_count": 12,
   "metadata": {},
   "outputs": [
    {
     "data": {
      "text/plain": [
       "20"
      ]
     },
     "execution_count": 12,
     "metadata": {},
     "output_type": "execute_result"
    }
   ],
   "source": [
    "cacheSize = 2\n",
    "cities = [\"Jeju\", \"Pangyo\", \"NewYork\", \"newyork\"]\n",
    "#LRU\n",
    "#cache hit일 경우 실행시간은 1이다.\n",
    "#cache miss일 경우 실행시간은 5이다.\n",
    "# answer = 50\n",
    "\n",
    "cache = []\n",
    "answer = 0\n",
    "for i in range(cacheSize):\n",
    "    cache.append(\"\")\n",
    "\n",
    "for i in cities:\n",
    "    if i in cache:\n",
    "        answer +=1\n",
    "        cache.insert(0,i)\n",
    "        del(cache[-1])\n",
    "    else:\n",
    "        answer +=5\n",
    "        cache.insert(0,i)\n",
    "        del(cache[-1])\n",
    "answer"
   ]
  },
  {
   "cell_type": "code",
   "execution_count": 20,
   "metadata": {},
   "outputs": [],
   "source": [
    "def solution(cacheSize, cities):\n",
    "    cache = []\n",
    "    answer = 0\n",
    "    for i in range(cacheSize):\n",
    "        cache.append(\"\")\n",
    "\n",
    "    for i in cities:\n",
    "        i = i.lower()\n",
    "        if i in cache:\n",
    "            answer +=1\n",
    "        else:\n",
    "            answer +=5\n",
    "        cache.insert(0,i)\n",
    "        del(cache[-1])\n",
    "    return answer"
   ]
  },
  {
   "cell_type": "code",
   "execution_count": 21,
   "metadata": {},
   "outputs": [
    {
     "data": {
      "text/plain": [
       "16"
      ]
     },
     "execution_count": 21,
     "metadata": {},
     "output_type": "execute_result"
    }
   ],
   "source": [
    "solution(2,[\"Jeju\", \"Pangyo\", \"NewYork\", \"newyork\"])"
   ]
  },
  {
   "cell_type": "code",
   "execution_count": 16,
   "metadata": {},
   "outputs": [
    {
     "data": {
      "text/plain": [
       "['Jeju', 'Pangyo', 'NewYork', 'newyork']"
      ]
     },
     "execution_count": 16,
     "metadata": {},
     "output_type": "execute_result"
    }
   ],
   "source": [
    "cities"
   ]
  },
  {
   "cell_type": "code",
   "execution_count": 26,
   "metadata": {},
   "outputs": [
    {
     "name": "stdout",
     "output_type": "stream",
     "text": [
      "jeju\n",
      "jeju\n",
      "jeju\n",
      "jeju\n"
     ]
    },
    {
     "data": {
      "text/plain": [
       "8"
      ]
     },
     "execution_count": 26,
     "metadata": {},
     "output_type": "execute_result"
    }
   ],
   "source": [
    "cacheSize = 2\n",
    "cities = [\"Jeju\", \"Jeju\", \"Jeju\", \"Jeju\"]\n",
    "    \n",
    "    \n",
    "cache = []\n",
    "answer = 0\n",
    "for i in range(cacheSize):\n",
    "    cache.append(\"\")\n",
    "\n",
    "for i in cities:\n",
    "    i = i.lower()\n",
    "    if i in cache:\n",
    "        answer +=1\n",
    "    else:\n",
    "        answer +=5\n",
    "    cache.insert(0,i)\n",
    "    del(cache[-1])\n",
    "    print(i)\n",
    "\n",
    "answer"
   ]
  },
  {
   "cell_type": "code",
   "execution_count": 3,
   "metadata": {},
   "outputs": [
    {
     "data": {
      "text/plain": [
       "50"
      ]
     },
     "execution_count": 3,
     "metadata": {},
     "output_type": "execute_result"
    }
   ],
   "source": [
    "cacheSize = 3\n",
    "cities = [\"Jeju\", \"Pangyo\", \"Seoul\", \"NewYork\", \"LA\", \"Jeju\", \"Pangyo\", \"Seoul\", \"NewYork\", \"LA\"]\n",
    "#LRU\n",
    "#cache hit일 경우 실행시간은 1이다.\n",
    "#cache miss일 경우 실행시간은 5이다.\n",
    "# answer = 50\n",
    "\n",
    "cache = []\n",
    "answer = 0\n",
    "\n",
    "for i in cities:\n",
    "    i = i.lower()\n",
    "    if i in cache:\n",
    "        answer +=1\n",
    "        del(cache[cache.index(i)])\n",
    "        cache.insert(0,i)\n",
    "        if len(cache) > cacheSize:\n",
    "            del(cache[-1])\n",
    "    else:\n",
    "        answer +=5\n",
    "        cache.insert(0,i)\n",
    "        if len(cache) > cacheSize:\n",
    "            del(cache[-1])\n",
    "answer"
   ]
  },
  {
   "cell_type": "code",
   "execution_count": null,
   "metadata": {},
   "outputs": [],
   "source": [
    "def solution(cacheSize, cities):\n",
    "    cache = []\n",
    "    answer = 0\n",
    "\n",
    "    for i in cities:\n",
    "        i = i.lower()\n",
    "        if i in cache:\n",
    "            answer +=1\n",
    "            del(cache[cache.index(i)])\n",
    "            cache.insert(0,i)\n",
    "            if len(cache) > cacheSize:\n",
    "                del(cache[-1])\n",
    "        else:\n",
    "            answer +=5\n",
    "            cache.insert(0,i)\n",
    "            if len(cache) > cacheSize:\n",
    "                del(cache[-1])\n",
    "    return answer"
   ]
  }
 ],
 "metadata": {
  "kernelspec": {
   "display_name": "ml",
   "language": "python",
   "name": "python3"
  },
  "language_info": {
   "codemirror_mode": {
    "name": "ipython",
    "version": 3
   },
   "file_extension": ".py",
   "mimetype": "text/x-python",
   "name": "python",
   "nbconvert_exporter": "python",
   "pygments_lexer": "ipython3",
   "version": "3.8.16"
  },
  "orig_nbformat": 4
 },
 "nbformat": 4,
 "nbformat_minor": 2
}
