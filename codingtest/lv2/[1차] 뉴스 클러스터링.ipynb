{
 "cells": [
  {
   "cell_type": "code",
   "execution_count": 16,
   "metadata": {},
   "outputs": [],
   "source": [
    "str1 = \"FRANCE\"\n",
    "str2 = \"french\"\n",
    "\n",
    "#65536\n",
    "# result = 16384\n"
   ]
  },
  {
   "cell_type": "code",
   "execution_count": 17,
   "metadata": {},
   "outputs": [],
   "source": [
    "str1 = str1.lower()\n",
    "str2 = str2.lower()"
   ]
  },
  {
   "cell_type": "code",
   "execution_count": 18,
   "metadata": {},
   "outputs": [],
   "source": [
    "import re"
   ]
  },
  {
   "cell_type": "code",
   "execution_count": 43,
   "metadata": {},
   "outputs": [],
   "source": [
    "p = re.compile(\"[^a-z]\")"
   ]
  },
  {
   "cell_type": "code",
   "execution_count": 44,
   "metadata": {},
   "outputs": [
    {
     "name": "stdout",
     "output_type": "stream",
     "text": [
      "None\n"
     ]
    }
   ],
   "source": [
    "print(p.match(str2))"
   ]
  },
  {
   "cell_type": "code",
   "execution_count": 45,
   "metadata": {},
   "outputs": [
    {
     "data": {
      "text/plain": [
       "[]"
      ]
     },
     "execution_count": 45,
     "metadata": {},
     "output_type": "execute_result"
    }
   ],
   "source": [
    "p.findall(str2)"
   ]
  },
  {
   "cell_type": "code",
   "execution_count": 12,
   "metadata": {},
   "outputs": [],
   "source": [
    "str1 = p.findall(str1)\n",
    "str2 = p.findall(str2)"
   ]
  },
  {
   "cell_type": "code",
   "execution_count": 46,
   "metadata": {},
   "outputs": [
    {
     "data": {
      "text/plain": [
       "[]"
      ]
     },
     "execution_count": 46,
     "metadata": {},
     "output_type": "execute_result"
    }
   ],
   "source": [
    "p.findall(str1[i] + str1[i+1])"
   ]
  },
  {
   "cell_type": "code",
   "execution_count": 56,
   "metadata": {},
   "outputs": [],
   "source": [
    "J1 = []\n",
    "J2 = []\n",
    "for i in range(len(str1)-1):\n",
    "    if len(p.findall(str1[i] + str1[i+1])) == 0:\n",
    "        J1.append(str1[i] + str1[i+1])\n",
    "for i in range(len(str2)-1):\n",
    "    if len(p.findall(str2[i] + str2[i+1])) == 0:\n",
    "        J2.append(str2[i] + str2[i+1])\n"
   ]
  },
  {
   "cell_type": "code",
   "execution_count": 49,
   "metadata": {},
   "outputs": [
    {
     "data": {
      "text/plain": [
       "['fr', 'ra', 'an', 'nc', 'ce']"
      ]
     },
     "execution_count": 49,
     "metadata": {},
     "output_type": "execute_result"
    }
   ],
   "source": [
    "J1"
   ]
  },
  {
   "cell_type": "code",
   "execution_count": 50,
   "metadata": {},
   "outputs": [
    {
     "data": {
      "text/plain": [
       "{'an', 'ce', 'ch', 'en', 'fr', 'nc', 'ra', 're'}"
      ]
     },
     "execution_count": 50,
     "metadata": {},
     "output_type": "execute_result"
    }
   ],
   "source": [
    "set(J1+J2)"
   ]
  },
  {
   "cell_type": "code",
   "execution_count": 51,
   "metadata": {},
   "outputs": [
    {
     "data": {
      "text/plain": [
       "['fr', 'ra', 'an', 'nc', 'ce', 'fr', 're', 'en', 'nc', 'ch']"
      ]
     },
     "execution_count": 51,
     "metadata": {},
     "output_type": "execute_result"
    }
   ],
   "source": [
    "J1 + J2"
   ]
  },
  {
   "cell_type": "code",
   "execution_count": 52,
   "metadata": {},
   "outputs": [],
   "source": [
    "Jmax = J1\n",
    "Jmin = []\n",
    "for i in J2:\n",
    "    if i in J1:\n",
    "        Jmin.append(i)\n",
    "    else:\n",
    "        Jmax.append(i)\n",
    "    "
   ]
  },
  {
   "cell_type": "code",
   "execution_count": 53,
   "metadata": {},
   "outputs": [
    {
     "data": {
      "text/plain": [
       "['fr', 'ra', 'an', 'nc', 'ce', 're', 'en', 'ch']"
      ]
     },
     "execution_count": 53,
     "metadata": {},
     "output_type": "execute_result"
    }
   ],
   "source": [
    "Jmax"
   ]
  },
  {
   "cell_type": "code",
   "execution_count": 54,
   "metadata": {},
   "outputs": [
    {
     "data": {
      "text/plain": [
       "['fr', 'nc']"
      ]
     },
     "execution_count": 54,
     "metadata": {},
     "output_type": "execute_result"
    }
   ],
   "source": [
    "Jmin"
   ]
  },
  {
   "cell_type": "code",
   "execution_count": 55,
   "metadata": {},
   "outputs": [
    {
     "data": {
      "text/plain": [
       "16384"
      ]
     },
     "execution_count": 55,
     "metadata": {},
     "output_type": "execute_result"
    }
   ],
   "source": [
    "int(len(Jmin)/len(Jmax) *65536)"
   ]
  },
  {
   "cell_type": "code",
   "execution_count": null,
   "metadata": {},
   "outputs": [],
   "source": []
  },
  {
   "cell_type": "code",
   "execution_count": 65,
   "metadata": {},
   "outputs": [],
   "source": [
    "str1 = \"aa1+aa2\"\n",
    "str2 = \"AAAA12\"\n",
    "\n",
    "#65536\n",
    "# result = 43690\n",
    "\n",
    "import re\n",
    "str1 = str1.lower()\n",
    "str2 = str2.lower()\n",
    "\n",
    "p = re.compile(\"[^a-z]\")\n",
    "\n",
    "J1 = []\n",
    "J2 = []\n",
    "for i in range(len(str1)-1):\n",
    "    if len(p.findall(str1[i] + str1[i+1])) == 0:\n",
    "        J1.append(str1[i] + str1[i+1])\n",
    "for i in range(len(str2)-1):\n",
    "    if len(p.findall(str2[i] + str2[i+1])) == 0:\n",
    "        J2.append(str2[i] + str2[i+1])\n",
    "Jmax = J1\n",
    "Jmin = []\n",
    "for i in J2:\n",
    "    if i in J1:\n",
    "        Jmin.append(i)\n",
    "    else:\n",
    "        Jmax.append(i)\n",
    "if len(Jmax) ==0:\n",
    "    answer = 1\n",
    "else:\n",
    "    answer = int(len(Jmin)/len(Jmax) *65536)"
   ]
  },
  {
   "cell_type": "code",
   "execution_count": 66,
   "metadata": {},
   "outputs": [
    {
     "data": {
      "text/plain": [
       "98304"
      ]
     },
     "execution_count": 66,
     "metadata": {},
     "output_type": "execute_result"
    }
   ],
   "source": [
    "answer"
   ]
  },
  {
   "cell_type": "code",
   "execution_count": 71,
   "metadata": {},
   "outputs": [
    {
     "data": {
      "text/plain": [
       "['aa', 'aa']"
      ]
     },
     "execution_count": 71,
     "metadata": {},
     "output_type": "execute_result"
    }
   ],
   "source": [
    "J1"
   ]
  },
  {
   "cell_type": "code",
   "execution_count": 72,
   "metadata": {},
   "outputs": [
    {
     "data": {
      "text/plain": [
       "['aa', 'aa', 'aa']"
      ]
     },
     "execution_count": 72,
     "metadata": {},
     "output_type": "execute_result"
    }
   ],
   "source": [
    "J2"
   ]
  },
  {
   "cell_type": "code",
   "execution_count": 73,
   "metadata": {},
   "outputs": [],
   "source": [
    "Jmax = J1 + J2"
   ]
  },
  {
   "cell_type": "code",
   "execution_count": 74,
   "metadata": {},
   "outputs": [
    {
     "data": {
      "text/plain": [
       "['aa', 'aa', 'aa', 'aa', 'aa']"
      ]
     },
     "execution_count": 74,
     "metadata": {},
     "output_type": "execute_result"
    }
   ],
   "source": [
    "Jmax"
   ]
  },
  {
   "cell_type": "code",
   "execution_count": 77,
   "metadata": {},
   "outputs": [],
   "source": [
    "for i in Jmax:\n",
    "    max(J1,J2)"
   ]
  },
  {
   "cell_type": "code",
   "execution_count": 78,
   "metadata": {},
   "outputs": [
    {
     "data": {
      "text/plain": [
       "['aa', 'aa', 'aa']"
      ]
     },
     "execution_count": 78,
     "metadata": {},
     "output_type": "execute_result"
    }
   ],
   "source": [
    "max(J1,J2)"
   ]
  },
  {
   "cell_type": "code",
   "execution_count": 79,
   "metadata": {},
   "outputs": [
    {
     "data": {
      "text/plain": [
       "['aa', 'aa']"
      ]
     },
     "execution_count": 79,
     "metadata": {},
     "output_type": "execute_result"
    }
   ],
   "source": [
    "min(J1,J2)"
   ]
  },
  {
   "cell_type": "code",
   "execution_count": 124,
   "metadata": {},
   "outputs": [],
   "source": [
    "str1 = \"aa1+aa2\"\n",
    "str2 = \"AAAA12\"\n",
    "\n",
    "#65536\n",
    "# result = 43690\n",
    "\n",
    "import re\n",
    "str1 = str1.lower()\n",
    "str2 = str2.lower()\n",
    "\n",
    "p = re.compile(\"[^a-z]\")\n",
    "\n",
    "J1 = []\n",
    "J2 = []\n",
    "for i in range(len(str1)-1):\n",
    "    if len(p.findall(str1[i] + str1[i+1])) == 0:\n",
    "        J1.append(str1[i] + str1[i+1])\n",
    "for i in range(len(str2)-1):\n",
    "    if len(p.findall(str2[i] + str2[i+1])) == 0:\n",
    "        J2.append(str2[i] + str2[i+1])\n",
    "Jmax = []\n",
    "Jmin = []\n",
    "for i in J1:\n",
    "    if J1.count(i) > Jmax.count(i):\n",
    "        Jmax.append(i)\n",
    "for i in J2:\n",
    "    if J2.count(i) > Jmax.count(i):\n",
    "        Jmax.append(i)\n",
    "\n",
    "\n",
    "for j in J1:\n",
    "    if J2.count(j) != 0:\n",
    "        if Jmin.count(j) < min(J2.count(j),J1.count(j)):\n",
    "            Jmin.append(j)\n",
    "\n",
    "\n",
    "if len(Jmax) ==0:\n",
    "    answer = 65536\n",
    "else:\n",
    "    answer = int(len(Jmin)/len(Jmax) *65536)"
   ]
  },
  {
   "cell_type": "code",
   "execution_count": 125,
   "metadata": {},
   "outputs": [
    {
     "data": {
      "text/plain": [
       "43690"
      ]
     },
     "execution_count": 125,
     "metadata": {},
     "output_type": "execute_result"
    }
   ],
   "source": [
    "answer"
   ]
  },
  {
   "cell_type": "code",
   "execution_count": 126,
   "metadata": {},
   "outputs": [
    {
     "data": {
      "text/plain": [
       "['aa', 'aa']"
      ]
     },
     "execution_count": 126,
     "metadata": {},
     "output_type": "execute_result"
    }
   ],
   "source": [
    "J1"
   ]
  },
  {
   "cell_type": "code",
   "execution_count": 127,
   "metadata": {},
   "outputs": [
    {
     "data": {
      "text/plain": [
       "['aa', 'aa', 'aa']"
      ]
     },
     "execution_count": 127,
     "metadata": {},
     "output_type": "execute_result"
    }
   ],
   "source": [
    "J2"
   ]
  },
  {
   "cell_type": "code",
   "execution_count": 129,
   "metadata": {},
   "outputs": [
    {
     "data": {
      "text/plain": [
       "{'aa'}"
      ]
     },
     "execution_count": 129,
     "metadata": {},
     "output_type": "execute_result"
    }
   ],
   "source": [
    "set(J1) & set(J2)"
   ]
  },
  {
   "cell_type": "code",
   "execution_count": null,
   "metadata": {},
   "outputs": [],
   "source": [
    "import re\n",
    "def solution(str1, str2):\n",
    "    str1 = str1.lower()\n",
    "    str2 = str2.lower()\n",
    "\n",
    "    p = re.compile(\"[^a-z]\")\n",
    "\n",
    "    J1 = []\n",
    "    J2 = []\n",
    "    for i in range(len(str1)-1):\n",
    "        if len(p.findall(str1[i] + str1[i+1])) == 0:\n",
    "            J1.append(str1[i] + str1[i+1])\n",
    "    for i in range(len(str2)-1):\n",
    "        if len(p.findall(str2[i] + str2[i+1])) == 0:\n",
    "            J2.append(str2[i] + str2[i+1])\n",
    "    Jmax = []\n",
    "    Jmin = []\n",
    "    for i in J1:\n",
    "        if J1.count(i) > Jmax.count(i):\n",
    "            Jmax.append(i)\n",
    "    for i in J2:\n",
    "        if J2.count(i) > Jmax.count(i):\n",
    "            Jmax.append(i)\n",
    "\n",
    "\n",
    "    for j in J1:\n",
    "        if J2.count(j) != 0:\n",
    "            if Jmin.count(j) < min(J2.count(j),J1.count(j)):\n",
    "                Jmin.append(j)\n",
    "\n",
    "\n",
    "    if len(Jmax) ==0:\n",
    "        answer = 65536\n",
    "    else:\n",
    "        answer = int(len(Jmin)/len(Jmax) *65536)\n",
    "    return answer"
   ]
  }
 ],
 "metadata": {
  "kernelspec": {
   "display_name": "ml",
   "language": "python",
   "name": "python3"
  },
  "language_info": {
   "codemirror_mode": {
    "name": "ipython",
    "version": 3
   },
   "file_extension": ".py",
   "mimetype": "text/x-python",
   "name": "python",
   "nbconvert_exporter": "python",
   "pygments_lexer": "ipython3",
   "version": "3.8.16"
  },
  "orig_nbformat": 4
 },
 "nbformat": 4,
 "nbformat_minor": 2
}
