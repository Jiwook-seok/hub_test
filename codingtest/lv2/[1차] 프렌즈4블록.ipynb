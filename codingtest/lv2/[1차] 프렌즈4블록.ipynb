{
 "cells": [
  {
   "cell_type": "code",
   "execution_count": 1,
   "metadata": {},
   "outputs": [],
   "source": [
    "m = 4\n",
    "n = 5\n",
    "board = [\"CCBDE\", \"AAADE\", \"AAABF\", \"CCBBF\"]\n",
    "\n",
    "# result = 14"
   ]
  },
  {
   "cell_type": "code",
   "execution_count": 2,
   "metadata": {},
   "outputs": [],
   "source": [
    "# CCBDE\n",
    "# AAADE\n",
    "# AAABF\n",
    "# CCBBF"
   ]
  },
  {
   "cell_type": "code",
   "execution_count": 3,
   "metadata": {},
   "outputs": [],
   "source": [
    "import re"
   ]
  },
  {
   "cell_type": "code",
   "execution_count": 4,
   "metadata": {},
   "outputs": [],
   "source": [
    "m = 4\n",
    "n = 5\n",
    "board = [\"CCBDE\", \"AAADE\", \"AAABF\", \"CCBBF\"]\n",
    "\n",
    "# result = 14\n",
    "answer = 0\n",
    "bb = []\n",
    "for i in range(m):\n",
    "    bb.append(re.findall(\"[A-Z]\",board[i]))\n",
    "\n",
    "while True:\n",
    "    temp = []\n",
    "    for i in range(m-1):\n",
    "        for j in range(n-1):\n",
    "            if bb[i][j] != \" \" and bb[i][j] == bb[i+1][j] and bb[i][j] == bb[i][j+1] and bb[i][j] == bb[i+1][j+1] :\n",
    "                temp.append((i,j))\n",
    "                temp.append((i+1,j))\n",
    "                temp.append((i,j+1))\n",
    "                temp.append((i+1,j+1))\n",
    "\n",
    "    temp = list(set(temp))\n",
    "    if len(temp) ==0:\n",
    "        break\n",
    "    \n",
    "    for k,l in temp:\n",
    "        bb[k][l] = \" \"\n",
    "        answer += 1\n",
    "\n",
    "    for i in range(m-1,-1,-1):\n",
    "        for j in range(n-1,-1,-1):\n",
    "            if bb[i][j] == \" \" :\n",
    "                k=1\n",
    "                while i-k>= 0:\n",
    "                    if bb[i-k][j] != \" \":\n",
    "                        bb[i][j] = bb[i-k][j]\n",
    "                        bb[i-k][j] = \" \"\n",
    "                        break\n",
    "                    else:\n",
    "                        k+=1\n"
   ]
  },
  {
   "cell_type": "code",
   "execution_count": null,
   "metadata": {},
   "outputs": [],
   "source": [
    "import re\n",
    "def solution(m, n, board):\n",
    "    answer = 0\n",
    "    bb = []\n",
    "    for i in range(m):\n",
    "        bb.append(re.findall(\"[A-Z]\",board[i]))\n",
    "\n",
    "    while True:\n",
    "        temp = []\n",
    "        for i in range(m-1):\n",
    "            for j in range(n-1):\n",
    "                if bb[i][j] != \" \" and bb[i][j] == bb[i+1][j] and bb[i][j] == bb[i][j+1] and bb[i][j] == bb[i+1][j+1] :\n",
    "                    temp.append((i,j))\n",
    "                    temp.append((i+1,j))\n",
    "                    temp.append((i,j+1))\n",
    "                    temp.append((i+1,j+1))\n",
    "\n",
    "        temp = list(set(temp))\n",
    "        if len(temp) ==0:\n",
    "            break\n",
    "\n",
    "        for k,l in temp:\n",
    "            bb[k][l] = \" \"\n",
    "            answer += 1\n",
    "\n",
    "        for i in range(m-1,-1,-1):\n",
    "            for j in range(n-1,-1,-1):\n",
    "                if bb[i][j] == \" \" :\n",
    "                    k=1\n",
    "                    while i-k>= 0:\n",
    "                        if bb[i-k][j] != \" \":\n",
    "                            bb[i][j] = bb[i-k][j]\n",
    "                            bb[i-k][j] = \" \"\n",
    "                            break\n",
    "                        else:\n",
    "                            k+=1\n",
    "    return answer"
   ]
  }
 ],
 "metadata": {
  "kernelspec": {
   "display_name": "ml",
   "language": "python",
   "name": "python3"
  },
  "language_info": {
   "codemirror_mode": {
    "name": "ipython",
    "version": 3
   },
   "file_extension": ".py",
   "mimetype": "text/x-python",
   "name": "python",
   "nbconvert_exporter": "python",
   "pygments_lexer": "ipython3",
   "version": "3.8.16"
  },
  "orig_nbformat": 4
 },
 "nbformat": 4,
 "nbformat_minor": 2
}
